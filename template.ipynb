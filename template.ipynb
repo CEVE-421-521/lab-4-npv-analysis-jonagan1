{
  "cells": [
    {
      "cell_type": "raw",
      "id": "17871ffb",
      "metadata": {},
      "source": [
        "---\n",
        "title: 'Lab 4: House Elevation NPV Analysis'\n",
        "author: Jonathan Gan wg18\n",
        "date: '2024-02-08'\n",
        "week: 5\n",
        "categories:\n",
        "  - Lab\n",
        "format:\n",
        "  html: default\n",
        "  docx:\n",
        "    toc: true\n",
        "    fig-format: png\n",
        "    number-sections: true\n",
        "    code-line-numbers: true\n",
        "date-format: 'ddd., MMM. D'\n",
        "bibliography: references.bib\n",
        "---"
      ]
    },
    {
      "cell_type": "code",
      "execution_count": null,
      "id": "1188ba17",
      "metadata": {
        "vscode": {
          "languageId": "julia"
        }
      },
      "outputs": [],
      "source": [
        "#| output: false\n",
        "using CSV\n",
        "using DataFrames\n",
        "using DataFramesMeta\n",
        "using Distributions\n",
        "using Interpolations\n",
        "using Plots\n",
        "using StatsPlots\n",
        "using Unitful\n",
        "\n",
        "Plots.default(; margin=6Plots.mm)\n",
        "\n",
        "include(\"depthdamage.jl\")"
      ]
    },
    {
      "cell_type": "markdown",
      "id": "af19d966",
      "metadata": {},
      "source": [
        "# Depth damage function\n"
      ]
    },
    {
      "cell_type": "code",
      "execution_count": null,
      "id": "8133cf0d",
      "metadata": {
        "vscode": {
          "languageId": "julia"
        }
      },
      "outputs": [],
      "source": [
        "haz_fl_dept = CSV.read(\"data/haz_fl_dept.csv\", DataFrame) # read in the file\n",
        "desc = \"two story, no basement, Structure\"\n",
        "row = @rsubset(haz_fl_dept, :Description == desc)[1, :] # select the row I want\n",
        "dd = DepthDamageData(row) # extract the depth-damage data\n",
        "damage_fn = get_depth_damage_function(dd.depths, dd.damages) # get the depth-damage function"
      ]
    },
    {
      "cell_type": "markdown",
      "id": "f9351fa6",
      "metadata": {},
      "source": [
        "# Single year function\n"
      ]
    },
    {
      "cell_type": "code",
      "execution_count": null,
      "id": "577234b3",
      "metadata": {
        "vscode": {
          "languageId": "julia"
        }
      },
      "outputs": [],
      "source": [
        "function single_year_cost_benefit(flood_dist, damage_fn, elevation_cost, house_area, house_value, Δh)\n",
        "\n",
        "    # calculate the expected damages\n",
        "offset = 1.66 \n",
        "house_dist = GeneralizedExtremeValue(flood_dist.μ - offset, flood_dist.σ, flood_dist.ξ)\n",
        "samples = rand(house_dist, 100_000) .* 1u\"ft\"\n",
        "damages = damage_fn.(samples)\n",
        "expected_damages_pct = mean(damages)\n",
        "expected_damages_usd = house_value * expected_damages_pct / 100\n",
        "c_dmg = expected_damages_usd\n",
        "\n",
        "    # calculate the cost of elevating\n",
        "Δh = Δh .* 1u\"ft\"\n",
        "c_constr = elevation_cost.(Δh, house_area)\n",
        "\n",
        "    # return the total cost and benefit\n",
        "    return -c_constr - c_dmg\n",
        "end"
      ]
    },
    {
      "cell_type": "markdown",
      "id": "1e1a4874",
      "metadata": {},
      "source": [
        "# NPV function\n"
      ]
    },
    {
      "cell_type": "code",
      "execution_count": null,
      "id": "c02e1c80",
      "metadata": {
        "vscode": {
          "languageId": "julia"
        }
      },
      "outputs": [],
      "source": [
        "function npv_cost_benefit(flood_dist, damage_fn, elevation_cost, house_area, house_value, Δh, T, discount_rate)\n",
        "    # calculate the costs and benefits for each year, and then discount\n",
        "    # see above!\n",
        "    cost_benefits = zeros(T)\n",
        "    for i in 1:T\n",
        "        if i== 1\n",
        "            cost_benefits[i] = single_year_cost_benefit(flood_dist, damage_fn, elevation_cost, house_area, house_value, Δh)\n",
        "        else\n",
        "            cost_benefits[i] = single_year_cost_benefit(flood_dist, damage_fn, elevation_cost, house_area, house_value, 0)\n",
        "        end\n",
        "    end\n",
        "    npv = sum(cost_benefits .* (1 - discount_rate) .^ (0:9))\n",
        "    return npv\n",
        "end"
      ]
    },
    {
      "cell_type": "markdown",
      "id": "2437bf1c",
      "metadata": {},
      "source": [
        "# One SOW, several actions\n"
      ]
    },
    {
      "cell_type": "code",
      "execution_count": null,
      "id": "b91005eb",
      "metadata": {
        "vscode": {
          "languageId": "julia"
        }
      },
      "outputs": [],
      "source": [
        "flood_dist = GeneralizedExtremeValue(5, 1, 0.1) \n",
        "\n",
        "elevation_cost = get_elevation_cost_function()\n",
        "house_area = 1000u\"ft^2\"\n",
        "house_value = 400000\n",
        "h = 5\n",
        "T = 10\n",
        "discount_rate = 0.05\n",
        "\n",
        "npv_cost_benefit(flood_dist, damage_fn, elevation_cost, house_area, house_value, Δh, T, discount_rate)"
      ]
    },
    {
      "cell_type": "code",
      "execution_count": null,
      "id": "4fd7522a",
      "metadata": {
        "vscode": {
          "languageId": "julia"
        }
      },
      "outputs": [],
      "source": [
        "house_area = 1000u\"ft^2\"\n",
        "house_value = 400000\n",
        "h = 10\n",
        "T = 10\n",
        "discount_rate = 0.05\n",
        "npv_cost_benefit(flood_dist, damage_fn, elevation_cost, house_area, house_value, h, T, discount_rate) "
      ]
    },
    {
      "cell_type": "code",
      "execution_count": null,
      "id": "b4087f57",
      "metadata": {
        "vscode": {
          "languageId": "julia"
        }
      },
      "outputs": [],
      "source": [
        "house_area = 1000u\"ft^2\"\n",
        "house_value = 400000\n",
        "h = 0\n",
        "T = 10\n",
        "discount_rate = 0.05\n",
        "npv_cost_benefit(flood_dist, damage_fn, elevation_cost, house_area, house_value, h, T, discount_rate) "
      ]
    },
    {
      "cell_type": "markdown",
      "id": "cda49d79",
      "metadata": {},
      "source": [
        "# Sensitivity test\n",
        "\n",
        "# Discussion\n"
      ]
    }
  ],
  "metadata": {
    "kernelspec": {
      "display_name": "Julia 1.10.0",
      "language": "julia",
      "name": "julia-1.10"
    }
  },
  "nbformat": 4,
  "nbformat_minor": 5
}
